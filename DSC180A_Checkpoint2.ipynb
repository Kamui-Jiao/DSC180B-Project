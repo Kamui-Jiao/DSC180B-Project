{
 "cells": [
  {
   "cell_type": "markdown",
   "metadata": {},
   "source": [
    "# DSC180A Checkpoint #2"
   ]
  },
  {
   "cell_type": "markdown",
   "metadata": {},
   "source": [
    "## Setup"
   ]
  },
  {
   "cell_type": "code",
   "execution_count": 1,
   "metadata": {},
   "outputs": [],
   "source": [
    "import re\n",
    "import pandas as pd\n",
    "import os\n",
    "import numpy as np\n",
    "from sklearn.linear_model import LinearRegression\n",
    "from sklearn.model_selection import train_test_split\n",
    "from sklearn.metrics import mean_squared_error"
   ]
  },
  {
   "cell_type": "markdown",
   "metadata": {},
   "source": [
    "## ETL & feature extraction"
   ]
  },
  {
   "cell_type": "code",
   "execution_count": 1,
   "metadata": {},
   "outputs": [],
   "source": [
    "# Parse specific ware and generate features\n",
    "def generate_feature(path, ware_name, is_malware):\n",
    "    print(ware_name)\n",
    "    sml = ''\n",
    "    i = 0\n",
    "    for root, dirs, files in os.walk(path, topdown=False):  \n",
    "        for name in files:\n",
    "            if name.endswith('.smali'):\n",
    "                if i >= 30000:\n",
    "                    break\n",
    "                f = open(os.path.join(root, name))\n",
    "                sml += f.read() + '\\n'\n",
    "                f.close()\n",
    "                i += 1\n",
    "    df = pd.DataFrame(re.findall(r'invoke-(\\w{5,9})\\s.+}, (.*);->', sml))\n",
    "    nums = df[0].value_counts()\n",
    "    def get_num(name):\n",
    "        try:\n",
    "            return nums[name]\n",
    "        except:\n",
    "            return 0\n",
    "    \n",
    "    res = [ware_name, is_malware, i, df.shape[0], len(df[1].unique()), len(re.findall(r'\\.method', sml)), get_num('direct'), \n",
    "           get_num('static'), get_num('virtual'), get_num('interface'), get_num('super')]\n",
    "    return res, df[1].value_counts()"
   ]
  },
  {
   "cell_type": "code",
   "execution_count": 4,
   "metadata": {},
   "outputs": [],
   "source": [
    "# Parse all training data in directory which contains all malware or benign-ware\n",
    "def parse_all(path, is_mal):\n",
    "    res = []\n",
    "    wares = [i for i in os.listdir(path)]\n",
    "    max_w = 0\n",
    "    for d in wares:\n",
    "        if max_w >= 8:\n",
    "            return res\n",
    "        d_path = path + '/' + d\n",
    "        res.append(generate_feature(d_path, d, is_mal))\n",
    "        max_w += 1\n",
    "    return res"
   ]
  },
  {
   "cell_type": "markdown",
   "metadata": {},
   "source": [
    "## Data Parsing"
   ]
  },
  {
   "cell_type": "code",
   "execution_count": 6,
   "metadata": {
    "scrolled": true
   },
   "outputs": [
    {
     "name": "stdout",
     "output_type": "stream",
     "text": [
      "Kyview\n",
      "Fjcon\n",
      "Koler\n",
      "Ksapp\n",
      "FakeAV\n",
      "Boxer\n",
      "RuMMS\n",
      "Kemoge\n"
     ]
    }
   ],
   "source": [
    "# Malware\n",
    "path_mal = '/teams/DSC180A_FA20_A00/a04malware/malware' # Path\n",
    "features_mal = run(path_mal, 1)"
   ]
  },
  {
   "cell_type": "code",
   "execution_count": 5,
   "metadata": {},
   "outputs": [
    {
     "name": "stdout",
     "output_type": "stream",
     "text": [
      "net.updategames.granny\n",
      "com.gameloft.android.ANMP.GloftA8HM\n",
      "com.devsisters.gb\n",
      "com.huobi.cn\n",
      "com.gretech.gomplayerko\n",
      "com.buffstudio.sevendays_free\n",
      "com.sega.comixzone\n",
      "com.facebook.katana\n"
     ]
    }
   ],
   "source": [
    "# Safeware\n",
    "path_saf = '/teams/DSC180A_FA20_A00/a04malware/popular-apps' # Path\n",
    "features_saf = run(path_saf, 0)"
   ]
  },
  {
   "cell_type": "markdown",
   "metadata": {},
   "source": [
    "## Model"
   ]
  },
  {
   "cell_type": "code",
   "execution_count": 3,
   "metadata": {},
   "outputs": [],
   "source": [
    "# Build a baseline model and calculate mse\n",
    "def mse(X, y):\n",
    "    X_train, X_test, y_train, y_test = train_test_split(X, y, test_size=0.5, shuffle = True)\n",
    "    reg = LinearRegression().fit(X_train, y_train)\n",
    "    y_predict_train = reg.predict(X_train)\n",
    "    y_predict_test = reg.predict(X_test)\n",
    "    print('train MSE = {}, test MSE = {}'.format(mean_squared_error(y_train, y_predict_train), \n",
    "                                                 mean_squared_error(y_test, y_predict_test)))"
   ]
  },
  {
   "cell_type": "code",
   "execution_count": 7,
   "metadata": {},
   "outputs": [],
   "source": [
    "features = features_mal + features_saf"
   ]
  },
  {
   "cell_type": "code",
   "execution_count": null,
   "metadata": {},
   "outputs": [],
   "source": [
    "X = [i[2:] for i in features]\n",
    "y = [i[1] for i in features]\n",
    "mse(X, y)"
   ]
  },
  {
   "cell_type": "markdown",
   "metadata": {},
   "source": [
    "## EDA"
   ]
  },
  {
   "cell_type": "code",
   "execution_count": 8,
   "metadata": {},
   "outputs": [],
   "source": [
    "# Get the A-matrix (cited from - HINDROID)\n",
    "res = ''\n",
    "for i in features:\n",
    "    dd = pd.DataFrame(i[1]).reset_index()\n",
    "    if res is '':\n",
    "        res = dd\n",
    "    else:\n",
    "        res = pd.merge(res, dd, on='index', how='outer')\n",
    "res = res.fillna(0)"
   ]
  },
  {
   "cell_type": "code",
   "execution_count": 9,
   "metadata": {},
   "outputs": [],
   "source": [
    "cols = ['api','Kyview','Fjcon','Koler','Ksapp','FakeAV','Boxer','RuMMS','Kemoge','granny','GloftA8HM','devsisters','huobi','gomplayerko','sevendays_free','com.sega.comixzone','katana']"
   ]
  },
  {
   "cell_type": "code",
   "execution_count": 11,
   "metadata": {
    "scrolled": true
   },
   "outputs": [],
   "source": [
    "res.columns=cols\n",
    "res.to_csv('apis.csv')"
   ]
  },
  {
   "cell_type": "code",
   "execution_count": null,
   "metadata": {
    "scrolled": true
   },
   "outputs": [],
   "source": [
    "#Show all Features\n",
    "df = pd.DataFrame(features, columns=['app_name', 'is_malware', 'num_smali','num_api', 'num_unique_api','num_block',\n",
    "       'num_direct', 'num_static', 'num_virtual', 'num_interface', 'num_super'])"
   ]
  },
  {
   "cell_type": "code",
   "execution_count": 12,
   "metadata": {},
   "outputs": [
    {
     "data": {
      "text/html": [
       "<div>\n",
       "<style scoped>\n",
       "    .dataframe tbody tr th:only-of-type {\n",
       "        vertical-align: middle;\n",
       "    }\n",
       "\n",
       "    .dataframe tbody tr th {\n",
       "        vertical-align: top;\n",
       "    }\n",
       "\n",
       "    .dataframe thead th {\n",
       "        text-align: right;\n",
       "    }\n",
       "</style>\n",
       "<table border=\"1\" class=\"dataframe\">\n",
       "  <thead>\n",
       "    <tr style=\"text-align: right;\">\n",
       "      <th></th>\n",
       "      <th>api</th>\n",
       "      <th>Kyview</th>\n",
       "      <th>Fjcon</th>\n",
       "      <th>Koler</th>\n",
       "      <th>Ksapp</th>\n",
       "      <th>FakeAV</th>\n",
       "      <th>Boxer</th>\n",
       "      <th>RuMMS</th>\n",
       "      <th>Kemoge</th>\n",
       "      <th>granny</th>\n",
       "      <th>GloftA8HM</th>\n",
       "      <th>devsisters</th>\n",
       "      <th>huobi</th>\n",
       "      <th>gomplayerko</th>\n",
       "      <th>sevendays_free</th>\n",
       "      <th>com.sega.comixzone</th>\n",
       "      <th>katana</th>\n",
       "    </tr>\n",
       "  </thead>\n",
       "  <tbody>\n",
       "    <tr>\n",
       "      <th>0</th>\n",
       "      <td>Ljava/lang/StringBuilder</td>\n",
       "      <td>107542.0</td>\n",
       "      <td>12471.0</td>\n",
       "      <td>16412.0</td>\n",
       "      <td>99665.0</td>\n",
       "      <td>15719.0</td>\n",
       "      <td>18878.0</td>\n",
       "      <td>40513.0</td>\n",
       "      <td>84003.0</td>\n",
       "      <td>2800.0</td>\n",
       "      <td>18518.0</td>\n",
       "      <td>15047.0</td>\n",
       "      <td>22135.0</td>\n",
       "      <td>18452.0</td>\n",
       "      <td>12800.0</td>\n",
       "      <td>12919.0</td>\n",
       "      <td>2538.0</td>\n",
       "    </tr>\n",
       "    <tr>\n",
       "      <th>1</th>\n",
       "      <td>Ljava/lang/String</td>\n",
       "      <td>36444.0</td>\n",
       "      <td>5879.0</td>\n",
       "      <td>7191.0</td>\n",
       "      <td>50499.0</td>\n",
       "      <td>2345.0</td>\n",
       "      <td>1276.0</td>\n",
       "      <td>8341.0</td>\n",
       "      <td>23033.0</td>\n",
       "      <td>1171.0</td>\n",
       "      <td>5737.0</td>\n",
       "      <td>4472.0</td>\n",
       "      <td>7089.0</td>\n",
       "      <td>5956.0</td>\n",
       "      <td>6140.0</td>\n",
       "      <td>4138.0</td>\n",
       "      <td>2635.0</td>\n",
       "    </tr>\n",
       "    <tr>\n",
       "      <th>2</th>\n",
       "      <td>Ljava/lang/Object</td>\n",
       "      <td>20353.0</td>\n",
       "      <td>3503.0</td>\n",
       "      <td>5650.0</td>\n",
       "      <td>18342.0</td>\n",
       "      <td>3888.0</td>\n",
       "      <td>1840.0</td>\n",
       "      <td>18677.0</td>\n",
       "      <td>19466.0</td>\n",
       "      <td>1056.0</td>\n",
       "      <td>5560.0</td>\n",
       "      <td>5331.0</td>\n",
       "      <td>5063.0</td>\n",
       "      <td>5308.0</td>\n",
       "      <td>6678.0</td>\n",
       "      <td>5540.0</td>\n",
       "      <td>3316.0</td>\n",
       "    </tr>\n",
       "    <tr>\n",
       "      <th>3</th>\n",
       "      <td>Ljava/lang/StringBuffer</td>\n",
       "      <td>15847.0</td>\n",
       "      <td>1139.0</td>\n",
       "      <td>41.0</td>\n",
       "      <td>13694.0</td>\n",
       "      <td>70.0</td>\n",
       "      <td>1188.0</td>\n",
       "      <td>20.0</td>\n",
       "      <td>5694.0</td>\n",
       "      <td>23.0</td>\n",
       "      <td>89.0</td>\n",
       "      <td>12.0</td>\n",
       "      <td>375.0</td>\n",
       "      <td>261.0</td>\n",
       "      <td>68.0</td>\n",
       "      <td>91.0</td>\n",
       "      <td>35.0</td>\n",
       "    </tr>\n",
       "    <tr>\n",
       "      <th>4</th>\n",
       "      <td>Landroid/os/Parcel</td>\n",
       "      <td>13560.0</td>\n",
       "      <td>1090.0</td>\n",
       "      <td>3159.0</td>\n",
       "      <td>646.0</td>\n",
       "      <td>8843.0</td>\n",
       "      <td>0.0</td>\n",
       "      <td>14920.0</td>\n",
       "      <td>54136.0</td>\n",
       "      <td>552.0</td>\n",
       "      <td>3164.0</td>\n",
       "      <td>2789.0</td>\n",
       "      <td>3064.0</td>\n",
       "      <td>3374.0</td>\n",
       "      <td>3113.0</td>\n",
       "      <td>3252.0</td>\n",
       "      <td>528.0</td>\n",
       "    </tr>\n",
       "    <tr>\n",
       "      <th>...</th>\n",
       "      <td>...</td>\n",
       "      <td>...</td>\n",
       "      <td>...</td>\n",
       "      <td>...</td>\n",
       "      <td>...</td>\n",
       "      <td>...</td>\n",
       "      <td>...</td>\n",
       "      <td>...</td>\n",
       "      <td>...</td>\n",
       "      <td>...</td>\n",
       "      <td>...</td>\n",
       "      <td>...</td>\n",
       "      <td>...</td>\n",
       "      <td>...</td>\n",
       "      <td>...</td>\n",
       "      <td>...</td>\n",
       "      <td>...</td>\n",
       "    </tr>\n",
       "    <tr>\n",
       "      <th>76187</th>\n",
       "      <td>LX/0X5</td>\n",
       "      <td>0.0</td>\n",
       "      <td>0.0</td>\n",
       "      <td>0.0</td>\n",
       "      <td>0.0</td>\n",
       "      <td>0.0</td>\n",
       "      <td>0.0</td>\n",
       "      <td>0.0</td>\n",
       "      <td>0.0</td>\n",
       "      <td>0.0</td>\n",
       "      <td>0.0</td>\n",
       "      <td>0.0</td>\n",
       "      <td>0.0</td>\n",
       "      <td>0.0</td>\n",
       "      <td>0.0</td>\n",
       "      <td>0.0</td>\n",
       "      <td>1.0</td>\n",
       "    </tr>\n",
       "    <tr>\n",
       "      <th>76188</th>\n",
       "      <td>LX/0jm</td>\n",
       "      <td>0.0</td>\n",
       "      <td>0.0</td>\n",
       "      <td>0.0</td>\n",
       "      <td>0.0</td>\n",
       "      <td>0.0</td>\n",
       "      <td>0.0</td>\n",
       "      <td>0.0</td>\n",
       "      <td>0.0</td>\n",
       "      <td>0.0</td>\n",
       "      <td>0.0</td>\n",
       "      <td>0.0</td>\n",
       "      <td>0.0</td>\n",
       "      <td>0.0</td>\n",
       "      <td>0.0</td>\n",
       "      <td>0.0</td>\n",
       "      <td>1.0</td>\n",
       "    </tr>\n",
       "    <tr>\n",
       "      <th>76189</th>\n",
       "      <td>LX/0Uo</td>\n",
       "      <td>0.0</td>\n",
       "      <td>0.0</td>\n",
       "      <td>0.0</td>\n",
       "      <td>0.0</td>\n",
       "      <td>0.0</td>\n",
       "      <td>0.0</td>\n",
       "      <td>0.0</td>\n",
       "      <td>0.0</td>\n",
       "      <td>0.0</td>\n",
       "      <td>0.0</td>\n",
       "      <td>0.0</td>\n",
       "      <td>0.0</td>\n",
       "      <td>0.0</td>\n",
       "      <td>0.0</td>\n",
       "      <td>0.0</td>\n",
       "      <td>1.0</td>\n",
       "    </tr>\n",
       "    <tr>\n",
       "      <th>76190</th>\n",
       "      <td>LX/07T</td>\n",
       "      <td>0.0</td>\n",
       "      <td>0.0</td>\n",
       "      <td>0.0</td>\n",
       "      <td>0.0</td>\n",
       "      <td>0.0</td>\n",
       "      <td>0.0</td>\n",
       "      <td>0.0</td>\n",
       "      <td>0.0</td>\n",
       "      <td>0.0</td>\n",
       "      <td>0.0</td>\n",
       "      <td>0.0</td>\n",
       "      <td>0.0</td>\n",
       "      <td>0.0</td>\n",
       "      <td>0.0</td>\n",
       "      <td>0.0</td>\n",
       "      <td>1.0</td>\n",
       "    </tr>\n",
       "    <tr>\n",
       "      <th>76191</th>\n",
       "      <td>LX/06g</td>\n",
       "      <td>0.0</td>\n",
       "      <td>0.0</td>\n",
       "      <td>0.0</td>\n",
       "      <td>0.0</td>\n",
       "      <td>0.0</td>\n",
       "      <td>0.0</td>\n",
       "      <td>0.0</td>\n",
       "      <td>0.0</td>\n",
       "      <td>0.0</td>\n",
       "      <td>0.0</td>\n",
       "      <td>0.0</td>\n",
       "      <td>0.0</td>\n",
       "      <td>0.0</td>\n",
       "      <td>0.0</td>\n",
       "      <td>0.0</td>\n",
       "      <td>1.0</td>\n",
       "    </tr>\n",
       "  </tbody>\n",
       "</table>\n",
       "<p>76192 rows × 17 columns</p>\n",
       "</div>"
      ],
      "text/plain": [
       "                            api    Kyview    Fjcon    Koler    Ksapp   FakeAV  \\\n",
       "0      Ljava/lang/StringBuilder  107542.0  12471.0  16412.0  99665.0  15719.0   \n",
       "1             Ljava/lang/String   36444.0   5879.0   7191.0  50499.0   2345.0   \n",
       "2             Ljava/lang/Object   20353.0   3503.0   5650.0  18342.0   3888.0   \n",
       "3       Ljava/lang/StringBuffer   15847.0   1139.0     41.0  13694.0     70.0   \n",
       "4            Landroid/os/Parcel   13560.0   1090.0   3159.0    646.0   8843.0   \n",
       "...                         ...       ...      ...      ...      ...      ...   \n",
       "76187                    LX/0X5       0.0      0.0      0.0      0.0      0.0   \n",
       "76188                    LX/0jm       0.0      0.0      0.0      0.0      0.0   \n",
       "76189                    LX/0Uo       0.0      0.0      0.0      0.0      0.0   \n",
       "76190                    LX/07T       0.0      0.0      0.0      0.0      0.0   \n",
       "76191                    LX/06g       0.0      0.0      0.0      0.0      0.0   \n",
       "\n",
       "         Boxer    RuMMS   Kemoge  granny  GloftA8HM  devsisters    huobi  \\\n",
       "0      18878.0  40513.0  84003.0  2800.0    18518.0     15047.0  22135.0   \n",
       "1       1276.0   8341.0  23033.0  1171.0     5737.0      4472.0   7089.0   \n",
       "2       1840.0  18677.0  19466.0  1056.0     5560.0      5331.0   5063.0   \n",
       "3       1188.0     20.0   5694.0    23.0       89.0        12.0    375.0   \n",
       "4          0.0  14920.0  54136.0   552.0     3164.0      2789.0   3064.0   \n",
       "...        ...      ...      ...     ...        ...         ...      ...   \n",
       "76187      0.0      0.0      0.0     0.0        0.0         0.0      0.0   \n",
       "76188      0.0      0.0      0.0     0.0        0.0         0.0      0.0   \n",
       "76189      0.0      0.0      0.0     0.0        0.0         0.0      0.0   \n",
       "76190      0.0      0.0      0.0     0.0        0.0         0.0      0.0   \n",
       "76191      0.0      0.0      0.0     0.0        0.0         0.0      0.0   \n",
       "\n",
       "       gomplayerko  sevendays_free  com.sega.comixzone  katana  \n",
       "0          18452.0         12800.0             12919.0  2538.0  \n",
       "1           5956.0          6140.0              4138.0  2635.0  \n",
       "2           5308.0          6678.0              5540.0  3316.0  \n",
       "3            261.0            68.0                91.0    35.0  \n",
       "4           3374.0          3113.0              3252.0   528.0  \n",
       "...            ...             ...                 ...     ...  \n",
       "76187          0.0             0.0                 0.0     1.0  \n",
       "76188          0.0             0.0                 0.0     1.0  \n",
       "76189          0.0             0.0                 0.0     1.0  \n",
       "76190          0.0             0.0                 0.0     1.0  \n",
       "76191          0.0             0.0                 0.0     1.0  \n",
       "\n",
       "[76192 rows x 17 columns]"
      ]
     },
     "execution_count": 12,
     "metadata": {},
     "output_type": "execute_result"
    }
   ],
   "source": [
    "# A matrix\n",
    "res"
   ]
  },
  {
   "cell_type": "code",
   "execution_count": 89,
   "metadata": {},
   "outputs": [
    {
     "data": {
      "text/plain": [
       "<matplotlib.axes._subplots.AxesSubplot at 0x7fe63642ae50>"
      ]
     },
     "execution_count": 89,
     "metadata": {},
     "output_type": "execute_result"
    },
    {
     "data": {
      "image/png": "[encoded data removed]",
      "text/plain": [
       "<Figure size 432x288 with 1 Axes>"
      ]
     },
     "metadata": {
      "needs_background": "light"
     },
     "output_type": "display_data"
    }
   ],
   "source": [
    "# Generate boxplots\n",
    "df.boxplot(column=['num_api', 'num_static', 'num_unique_api'])"
   ]
  }
 ],
 "metadata": {
  "kernelspec": {
   "display_name": "Python 3",
   "language": "python",
   "name": "python3"
  },
  "language_info": {
   "codemirror_mode": {
    "name": "ipython",
    "version": 3
   },
   "file_extension": ".py",
   "mimetype": "text/x-python",
   "name": "python",
   "nbconvert_exporter": "python",
   "pygments_lexer": "ipython3",
   "version": "3.6.2"
  }
 },
 "nbformat": 4,
 "nbformat_minor": 2
}
