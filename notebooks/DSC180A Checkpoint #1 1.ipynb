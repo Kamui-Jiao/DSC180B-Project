{
 "cells": [
  {
   "cell_type": "code",
   "execution_count": 1,
   "metadata": {},
   "outputs": [],
   "source": [
    "import re\n",
    "import pandas as pd\n",
    "import os\n",
    "import numpy as np\n",
    "from sklearn.linear_model import LinearRegression\n",
    "from sklearn.model_selection import train_test_split\n",
    "from sklearn.metrics import mean_squared_error"
   ]
  },
  {
   "cell_type": "code",
   "execution_count": 2,
   "metadata": {},
   "outputs": [],
   "source": [
    "def generate_feature(path, ware_name, is_malware):\n",
    "    sml = ''\n",
    "    for root, dirs, files in os.walk(path, topdown=False):\n",
    "        for name in files:\n",
    "            if name.endswith('.smali'):\n",
    "                f = open(os.path.join(root, name))\n",
    "                sml += f.read() + '\\n'\n",
    "                f.close()\n",
    "    df = pd.DataFrame(re.findall(r'invoke-(\\w{5,9})\\s.+}, (.*);->', sml))\n",
    "    nums = df[0].value_counts()\n",
    "    def get_num(name):\n",
    "        try:\n",
    "            return nums[name]\n",
    "        except:\n",
    "            return 0\n",
    "    res = [ware_name, is_malware, df.shape[0], len(df[1].unique()), len(re.findall(r'\\.method', sml)), get_num('direct'), get_num('static'), get_num('virtual'), get_num('interface'), get_num('super')]\n",
    "    \n",
    "    return res"
   ]
  },
  {
   "cell_type": "code",
   "execution_count": 3,
   "metadata": {},
   "outputs": [],
   "source": [
    "def mse(X, y):\n",
    "    X_train, X_test, y_train, y_test = train_test_split(X, y, test_size=0.5, shuffle = True)\n",
    "    reg = LinearRegression().fit(X_train, y_train)\n",
    "    y_predict_train = reg.predict(X_train)\n",
    "    y_predict_test = reg.predict(X_test)\n",
    "    print('train MSE = {}, test MSE = {}'.format(mean_squared_error(y_train, y_predict_train), \n",
    "                                                 mean_squared_error(y_test, y_predict_test)))"
   ]
  },
  {
   "cell_type": "code",
   "execution_count": 13,
   "metadata": {},
   "outputs": [],
   "source": [
    "def run(path, is_mal):\n",
    "    res = []\n",
    "    wares = [i for i in os.listdir(path) if '.' not in i]\n",
    "    for d in wares:\n",
    "        d_path = path + '/' + i\n",
    "        res.append(generate_feature(d_path, d, is_mal))\n",
    "    return res"
   ]
  },
  {
   "cell_type": "code",
   "execution_count": null,
   "metadata": {},
   "outputs": [],
   "source": [
    "# Malware\n",
    "path_mal = '/teams/DSC180A_FA20_A00/a04malware/malware' # Path\n",
    "features_mal = run(path_mal, 1)"
   ]
  },
  {
   "cell_type": "code",
   "execution_count": null,
   "metadata": {},
   "outputs": [],
   "source": [
    "# Safeware\n",
    "path_saf = '/teams/DSC180A_FA20_A00/a04malware/popular-apps' # Path\n",
    "features_saf = run(path_saf, 0)"
   ]
  },
  {
   "cell_type": "code",
   "execution_count": null,
   "metadata": {},
   "outputs": [],
   "source": [
    "features = features_mal + features_saf\n",
    "X = [i[2:] for i in features]\n",
    "y = [i[1] for i in features]\n",
    "mse(X, y)"
   ]
  },
  {
   "cell_type": "code",
   "execution_count": null,
   "metadata": {},
   "outputs": [],
   "source": []
  }
 ],
 "metadata": {
  "kernelspec": {
   "display_name": "Python 3",
   "language": "python",
   "name": "python3"
  },
  "language_info": {
   "codemirror_mode": {
    "name": "ipython",
    "version": 3
   },
   "file_extension": ".py",
   "mimetype": "text/x-python",
   "name": "python",
   "nbconvert_exporter": "python",
   "pygments_lexer": "ipython3",
   "version": "3.6.2"
  }
 },
 "nbformat": 4,
 "nbformat_minor": 2
}
