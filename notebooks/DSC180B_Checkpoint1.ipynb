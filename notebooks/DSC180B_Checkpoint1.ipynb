{
 "cells": [
  {
   "cell_type": "markdown",
   "metadata": {},
   "source": [
    "# DSC180A Checkpoint #2"
   ]
  },
  {
   "cell_type": "markdown",
   "metadata": {},
   "source": [
    "## Setup"
   ]
  },
  {
   "cell_type": "code",
   "execution_count": 1,
   "metadata": {},
   "outputs": [],
   "source": [
    "import re\n",
    "import pandas as pd\n",
    "import os\n",
    "import numpy as np\n",
    "from sklearn.linear_model import LinearRegression\n",
    "from sklearn.model_selection import train_test_split\n",
    "from sklearn.metrics import mean_squared_error\n",
    "import networkx as nx"
   ]
  },
  {
   "cell_type": "markdown",
   "metadata": {},
   "source": [
    "## ETL & feature extraction"
   ]
  },
  {
   "cell_type": "code",
   "execution_count": 20,
   "metadata": {},
   "outputs": [],
   "source": [
    "# Transform smali file to call-anlysis table\n",
    "def process_smali(sml):\n",
    "    methods = pd.DataFrame(re.findall(r'method.* (\\w+)[(].+[)].+;([\\d\\D]*?)\\.end method', sml))\n",
    "    if len(methods) == 0:\n",
    "        return -1\n",
    "    \n",
    "    def process_method(x):\n",
    "        res = pd.DataFrame(re.findall(r'invoke-(\\w{5,9})\\s.+}, (.*);->(.+)[(]', x[1]))\n",
    "        if len(res) == 0:\n",
    "            return\n",
    "        res.columns = ['invoke_type', 'package_long', 'call']\n",
    "        res['method'] = x[0]\n",
    "        res['package'] = res.package_long.apply(lambda x:x[1:x.find('/')])\n",
    "        res['type'] = res.package.apply(lambda x:x if x in ['android', 'androidx', 'google', 'java', 'javax', 'kotlin'] else 'self')\n",
    "        return res\n",
    "    \n",
    "    dfs = methods.apply(process_method, axis=1)\n",
    "    try:\n",
    "        return pd.concat(dfs.tolist())\n",
    "    except:\n",
    "        return -1"
   ]
  },
  {
   "cell_type": "code",
   "execution_count": 21,
   "metadata": {},
   "outputs": [],
   "source": [
    "# Generate Markov Chain\n",
    "def generate_chain(df):\n",
    "    return df.type.value_counts() / len(df)"
   ]
  },
  {
   "cell_type": "code",
   "execution_count": 23,
   "metadata": {},
   "outputs": [],
   "source": [
    "# Apply smali file analysis to all smali files in an apk\n",
    "def process_apk(path):\n",
    "    i = 0\n",
    "    df = pd.DataFrame()\n",
    "    num_apicalls = 0\n",
    "    for root, dirs, files in os.walk(path, topdown=False):  \n",
    "        for name in files:\n",
    "            if name.endswith('.smali'):\n",
    "                if i >= 30000:\n",
    "                    break\n",
    "                f = open(os.path.join(root, name))\n",
    "                sml_df = process_smali(f.read())\n",
    "                if type(sml_df) == int:\n",
    "                    pass\n",
    "                else:\n",
    "                    df = pd.concat([df, sml_df], ignore_index=True)\n",
    "                f.close()\n",
    "                i += 1\n",
    "            \n",
    "    return df"
   ]
  },
  {
   "cell_type": "code",
   "execution_count": 4,
   "metadata": {},
   "outputs": [],
   "source": [
    "# Parse all training data in directory which contains all malware or benign-ware\n",
    "def parse_all(path):\n",
    "    res = pd.DataFrame()\n",
    "    wares = [i for i in os.listdir(path)]\n",
    "    max_w = 0\n",
    "    for d in wares:\n",
    "        if max_w >= 8:\n",
    "            return res\n",
    "        d_path = path + '/' + d\n",
    "        res = pd.concat([res, process_apk(d_path)], ignore_index=True)\n",
    "        max_w += 1\n",
    "    return res"
   ]
  },
  {
   "cell_type": "code",
   "execution_count": 24,
   "metadata": {},
   "outputs": [],
   "source": [
    "df = process_apk('Firefox')"
   ]
  },
  {
   "cell_type": "code",
   "execution_count": 26,
   "metadata": {},
   "outputs": [
    {
     "data": {
      "text/plain": [
       "self        0.481803\n",
       "java        0.240431\n",
       "kotlin      0.123108\n",
       "androidx    0.077027\n",
       "android     0.076623\n",
       "javax       0.001009\n",
       "Name: type, dtype: float64"
      ]
     },
     "execution_count": 26,
     "metadata": {},
     "output_type": "execute_result"
    }
   ],
   "source": [
    "generate_chain(df)"
   ]
  },
  {
   "cell_type": "markdown",
   "metadata": {},
   "source": [
    "## Data Parsing"
   ]
  },
  {
   "cell_type": "code",
   "execution_count": 6,
   "metadata": {
    "scrolled": true
   },
   "outputs": [
    {
     "name": "stdout",
     "output_type": "stream",
     "text": [
      "Kyview\n",
      "Fjcon\n",
      "Koler\n",
      "Ksapp\n",
      "FakeAV\n",
      "Boxer\n",
      "RuMMS\n",
      "Kemoge\n"
     ]
    }
   ],
   "source": [
    "# Malware\n",
    "path_mal = '/teams/DSC180A_FA20_A00/a04malware/malware' # Path\n",
    "features_mal = run(path_mal, 1)"
   ]
  },
  {
   "cell_type": "code",
   "execution_count": 5,
   "metadata": {},
   "outputs": [
    {
     "name": "stdout",
     "output_type": "stream",
     "text": [
      "net.updategames.granny\n",
      "com.gameloft.android.ANMP.GloftA8HM\n",
      "com.devsisters.gb\n",
      "com.huobi.cn\n",
      "com.gretech.gomplayerko\n",
      "com.buffstudio.sevendays_free\n",
      "com.sega.comixzone\n",
      "com.facebook.katana\n"
     ]
    }
   ],
   "source": [
    "# Safeware\n",
    "path_saf = '/teams/DSC180A_FA20_A00/a04malware/popular-apps' # Path\n",
    "features_saf = run(path_saf, 0)"
   ]
  },
  {
   "cell_type": "code",
   "execution_count": 7,
   "metadata": {},
   "outputs": [],
   "source": [
    "features = features_mal + features_saf"
   ]
  },
  {
   "cell_type": "markdown",
   "metadata": {},
   "source": [
    "## Model"
   ]
  },
  {
   "cell_type": "markdown",
   "metadata": {},
   "source": [
    "## EDA"
   ]
  },
  {
   "cell_type": "code",
   "execution_count": null,
   "metadata": {},
   "outputs": [],
   "source": []
  }
 ],
 "metadata": {
  "kernelspec": {
   "display_name": "Python 3",
   "language": "python",
   "name": "python3"
  },
  "language_info": {
   "codemirror_mode": {
    "name": "ipython",
    "version": 3
   },
   "file_extension": ".py",
   "mimetype": "text/x-python",
   "name": "python",
   "nbconvert_exporter": "python",
   "pygments_lexer": "ipython3",
   "version": "3.6.2"
  }
 },
 "nbformat": 4,
 "nbformat_minor": 2
}
